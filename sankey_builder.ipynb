{
 "cells": [
  {
   "cell_type": "code",
   "execution_count": 3,
   "id": "328f606c",
   "metadata": {},
   "outputs": [
    {
     "ename": "ModuleNotFoundError",
     "evalue": "No module named 'psycopg2'",
     "output_type": "error",
     "traceback": [
      "\u001b[1;31m---------------------------------------------------------------------------\u001b[0m",
      "\u001b[1;31mModuleNotFoundError\u001b[0m                       Traceback (most recent call last)",
      "\u001b[1;32mc:\\Users\\Hanad.Mohamed\\SankeyDiagrams\\sankey_builder.ipynb Cell 1'\u001b[0m in \u001b[0;36m<cell line: 6>\u001b[1;34m()\u001b[0m\n\u001b[0;32m      <a href='vscode-notebook-cell:/c%3A/Users/Hanad.Mohamed/SankeyDiagrams/sankey_builder.ipynb#ch0000000?line=3'>4</a>\u001b[0m \u001b[39mimport\u001b[39;00m \u001b[39mplotly\u001b[39;00m\u001b[39m.\u001b[39;00m\u001b[39mgraph_objects\u001b[39;00m \u001b[39mas\u001b[39;00m \u001b[39mgo\u001b[39;00m\n\u001b[0;32m      <a href='vscode-notebook-cell:/c%3A/Users/Hanad.Mohamed/SankeyDiagrams/sankey_builder.ipynb#ch0000000?line=4'>5</a>\u001b[0m \u001b[39mimport\u001b[39;00m \u001b[39mkeyring\u001b[39;00m\n\u001b[1;32m----> <a href='vscode-notebook-cell:/c%3A/Users/Hanad.Mohamed/SankeyDiagrams/sankey_builder.ipynb#ch0000000?line=5'>6</a>\u001b[0m \u001b[39mimport\u001b[39;00m \u001b[39mpsycopg2\u001b[39;00m\n\u001b[0;32m      <a href='vscode-notebook-cell:/c%3A/Users/Hanad.Mohamed/SankeyDiagrams/sankey_builder.ipynb#ch0000000?line=6'>7</a>\u001b[0m \u001b[39mimport\u001b[39;00m \u001b[39mpandas\u001b[39;00m\u001b[39m.\u001b[39;00m\u001b[39mio\u001b[39;00m\u001b[39m.\u001b[39;00m\u001b[39msql\u001b[39;00m \u001b[39mas\u001b[39;00m \u001b[39msqlio\u001b[39;00m\n\u001b[0;32m      <a href='vscode-notebook-cell:/c%3A/Users/Hanad.Mohamed/SankeyDiagrams/sankey_builder.ipynb#ch0000000?line=7'>8</a>\u001b[0m \u001b[39mfrom\u001b[39;00m \u001b[39mipywidgets\u001b[39;00m \u001b[39mimport\u001b[39;00m HBox, VBox, Label, Text, Layout, Combobox\n",
      "\u001b[1;31mModuleNotFoundError\u001b[0m: No module named 'psycopg2'"
     ]
    }
   ],
   "source": [
    "#import packages and files\n",
    "import pandas as pd\n",
    "import plotly\n",
    "import plotly.graph_objects as go\n",
    "import keyring\n",
    "import psycopg2\n",
    "import pandas.io.sql as sqlio\n",
    "from ipywidgets import HBox, VBox, Label, Text, Layout, Combobox\n",
    "import yaml\n",
    "from yaml import SafeDumper\n",
    "import math\n",
    "import re\n",
    "import os\n",
    "import collections\n",
    "import Wales_LAEP_Lib as laep"
   ]
  },
  {
   "cell_type": "code",
   "execution_count": null,
   "id": "b5ac4cc1",
   "metadata": {},
   "outputs": [],
   "source": [
    "# Connect to database if needed\n",
    "db = laep.WalesLeapDB() \n",
    "db.disconnect()\n",
    "db = laep.WalesLeapDB() \n",
    "password = db.get_password()\n",
    "db.connect(host='10.126.48.132', port='5432', user='waleslaep@psgaz-d-wlp-uks', dbname='wales_laep', password=password)"
   ]
  },
  {
   "cell_type": "code",
   "execution_count": null,
   "id": "dafe9b95",
   "metadata": {},
   "outputs": [],
   "source": [
    "#choose which table/view to read in from the database\n",
    "sql = \"select * from pembrokeshire_calliope.model_run_sankey_inputs_latest\""
   ]
  },
  {
   "cell_type": "code",
   "execution_count": null,
   "id": "7dd74adc",
   "metadata": {},
   "outputs": [],
   "source": [
    "#choose which scenario and iteration to visualise\n",
    "scenario = '2050_high_demand' #input(\"Enter scenario then press enter: \") \n",
    "iteration = 'Run_6_7_' #input(\"Enter iteration number then press enter: \")"
   ]
  },
  {
   "cell_type": "code",
   "execution_count": null,
   "id": "6ddab16e",
   "metadata": {
    "scrolled": false
   },
   "outputs": [
    {
     "data": {
      "text/html": [
       "<div>\n",
       "<style scoped>\n",
       "    .dataframe tbody tr th:only-of-type {\n",
       "        vertical-align: middle;\n",
       "    }\n",
       "\n",
       "    .dataframe tbody tr th {\n",
       "        vertical-align: top;\n",
       "    }\n",
       "\n",
       "    .dataframe thead th {\n",
       "        text-align: right;\n",
       "    }\n",
       "</style>\n",
       "<table border=\"1\" class=\"dataframe\">\n",
       "  <thead>\n",
       "    <tr style=\"text-align: right;\">\n",
       "      <th></th>\n",
       "      <th>input</th>\n",
       "      <th>weight</th>\n",
       "      <th>output</th>\n",
       "      <th>scenario</th>\n",
       "      <th>iteration</th>\n",
       "    </tr>\n",
       "  </thead>\n",
       "  <tbody>\n",
       "    <tr>\n",
       "      <th>1</th>\n",
       "      <td>Anaerobic digestion</td>\n",
       "      <td>0.086</td>\n",
       "      <td>Primary electricity</td>\n",
       "      <td>2050_high_demand</td>\n",
       "      <td>Run_6_7_</td>\n",
       "    </tr>\n",
       "    <tr>\n",
       "      <th>2</th>\n",
       "      <td>Biomass</td>\n",
       "      <td>0.018</td>\n",
       "      <td>Biomass boiler to electricity</td>\n",
       "      <td>2050_high_demand</td>\n",
       "      <td>Run_6_7_</td>\n",
       "    </tr>\n",
       "    <tr>\n",
       "      <th>3</th>\n",
       "      <td>Biomass boiler to electricity</td>\n",
       "      <td>0.005</td>\n",
       "      <td>Electricity</td>\n",
       "      <td>2050_high_demand</td>\n",
       "      <td>Run_6_7_</td>\n",
       "    </tr>\n",
       "    <tr>\n",
       "      <th>4</th>\n",
       "      <td>Biomass</td>\n",
       "      <td>1.478</td>\n",
       "      <td>Biomass boiler to heat</td>\n",
       "      <td>2050_high_demand</td>\n",
       "      <td>Run_6_7_</td>\n",
       "    </tr>\n",
       "    <tr>\n",
       "      <th>5</th>\n",
       "      <td>Biomass boiler to heat</td>\n",
       "      <td>1.034</td>\n",
       "      <td>Heat</td>\n",
       "      <td>2050_high_demand</td>\n",
       "      <td>Run_6_7_</td>\n",
       "    </tr>\n",
       "  </tbody>\n",
       "</table>\n",
       "</div>"
      ],
      "text/plain": [
       "                           input  weight                         output  \\\n",
       "1            Anaerobic digestion   0.086            Primary electricity   \n",
       "2                        Biomass   0.018  Biomass boiler to electricity   \n",
       "3  Biomass boiler to electricity   0.005                    Electricity   \n",
       "4                        Biomass   1.478         Biomass boiler to heat   \n",
       "5         Biomass boiler to heat   1.034                           Heat   \n",
       "\n",
       "           scenario iteration  \n",
       "1  2050_high_demand  Run_6_7_  \n",
       "2  2050_high_demand  Run_6_7_  \n",
       "3  2050_high_demand  Run_6_7_  \n",
       "4  2050_high_demand  Run_6_7_  \n",
       "5  2050_high_demand  Run_6_7_  "
      ]
     },
     "execution_count": 19,
     "metadata": {},
     "output_type": "execute_result"
    }
   ],
   "source": [
    "#read in data\n",
    "#df = pd.read_csv('2019_baseline_sankey_25032022.csv') #use this for non database csvs - ensure csv is in sankey inputs format\n",
    "df = sqlio.read_sql_query(sql, db.conn) #use this for straight from database\n",
    "\n",
    "df = df[(df['scenario'] == scenario) & (df['iteration'] == iteration)]\n",
    "df.head()"
   ]
  },
  {
   "cell_type": "code",
   "execution_count": null,
   "id": "90f7d03b",
   "metadata": {},
   "outputs": [
    {
     "data": {
      "text/html": [
       "<div>\n",
       "<style scoped>\n",
       "    .dataframe tbody tr th:only-of-type {\n",
       "        vertical-align: middle;\n",
       "    }\n",
       "\n",
       "    .dataframe tbody tr th {\n",
       "        vertical-align: top;\n",
       "    }\n",
       "\n",
       "    .dataframe thead th {\n",
       "        text-align: right;\n",
       "    }\n",
       "</style>\n",
       "<table border=\"1\" class=\"dataframe\">\n",
       "  <thead>\n",
       "    <tr style=\"text-align: right;\">\n",
       "      <th></th>\n",
       "      <th>input</th>\n",
       "      <th>weight</th>\n",
       "      <th>output</th>\n",
       "      <th>scenario</th>\n",
       "      <th>iteration</th>\n",
       "    </tr>\n",
       "  </thead>\n",
       "  <tbody>\n",
       "    <tr>\n",
       "      <th>1</th>\n",
       "      <td>Anaerobic digestion</td>\n",
       "      <td>0.086</td>\n",
       "      <td>Primary electricity</td>\n",
       "      <td>2050_high_demand</td>\n",
       "      <td>Run_6_7_</td>\n",
       "    </tr>\n",
       "    <tr>\n",
       "      <th>2</th>\n",
       "      <td>Biomass</td>\n",
       "      <td>0.018</td>\n",
       "      <td>Biomass boiler to electricity</td>\n",
       "      <td>2050_high_demand</td>\n",
       "      <td>Run_6_7_</td>\n",
       "    </tr>\n",
       "    <tr>\n",
       "      <th>3</th>\n",
       "      <td>Biomass boiler to electricity</td>\n",
       "      <td>0.005</td>\n",
       "      <td>Electricity</td>\n",
       "      <td>2050_high_demand</td>\n",
       "      <td>Run_6_7_</td>\n",
       "    </tr>\n",
       "    <tr>\n",
       "      <th>4</th>\n",
       "      <td>Biomass</td>\n",
       "      <td>1.478</td>\n",
       "      <td>Biomass boiler to heat</td>\n",
       "      <td>2050_high_demand</td>\n",
       "      <td>Run_6_7_</td>\n",
       "    </tr>\n",
       "    <tr>\n",
       "      <th>5</th>\n",
       "      <td>Biomass boiler to heat</td>\n",
       "      <td>1.034</td>\n",
       "      <td>Heat</td>\n",
       "      <td>2050_high_demand</td>\n",
       "      <td>Run_6_7_</td>\n",
       "    </tr>\n",
       "    <tr>\n",
       "      <th>6</th>\n",
       "      <td>Biomass import</td>\n",
       "      <td>1.495</td>\n",
       "      <td>Biomass</td>\n",
       "      <td>2050_high_demand</td>\n",
       "      <td>Run_6_7_</td>\n",
       "    </tr>\n",
       "    <tr>\n",
       "      <th>7</th>\n",
       "      <td>Electricity</td>\n",
       "      <td>566.867</td>\n",
       "      <td>Electricity demand</td>\n",
       "      <td>2050_high_demand</td>\n",
       "      <td>Run_6_7_</td>\n",
       "    </tr>\n",
       "    <tr>\n",
       "      <th>8</th>\n",
       "      <td>Heat</td>\n",
       "      <td>1362.064</td>\n",
       "      <td>Heat demand</td>\n",
       "      <td>2050_high_demand</td>\n",
       "      <td>Run_6_7_</td>\n",
       "    </tr>\n",
       "    <tr>\n",
       "      <th>9</th>\n",
       "      <td>Hydrogen</td>\n",
       "      <td>41.000</td>\n",
       "      <td>Industrial hydrogen demand</td>\n",
       "      <td>2050_high_demand</td>\n",
       "      <td>Run_6_7_</td>\n",
       "    </tr>\n",
       "    <tr>\n",
       "      <th>10</th>\n",
       "      <td>Hydrogen</td>\n",
       "      <td>41.000</td>\n",
       "      <td>Industrial hydrogen demand</td>\n",
       "      <td>2050_high_demand</td>\n",
       "      <td>Run_6_7_</td>\n",
       "    </tr>\n",
       "    <tr>\n",
       "      <th>12</th>\n",
       "      <td>Electricity transport</td>\n",
       "      <td>3.610</td>\n",
       "      <td>Electric bus</td>\n",
       "      <td>2050_high_demand</td>\n",
       "      <td>Run_6_7_</td>\n",
       "    </tr>\n",
       "    <tr>\n",
       "      <th>13</th>\n",
       "      <td>Electricity transport</td>\n",
       "      <td>97.495</td>\n",
       "      <td>Electric car</td>\n",
       "      <td>2050_high_demand</td>\n",
       "      <td>Run_6_7_</td>\n",
       "    </tr>\n",
       "    <tr>\n",
       "      <th>14</th>\n",
       "      <td>Electricity transport</td>\n",
       "      <td>7.864</td>\n",
       "      <td>Electric HGV</td>\n",
       "      <td>2050_high_demand</td>\n",
       "      <td>Run_6_7_</td>\n",
       "    </tr>\n",
       "    <tr>\n",
       "      <th>15</th>\n",
       "      <td>Electricity transport</td>\n",
       "      <td>4.951</td>\n",
       "      <td>Electric van</td>\n",
       "      <td>2050_high_demand</td>\n",
       "      <td>Run_6_7_</td>\n",
       "    </tr>\n",
       "    <tr>\n",
       "      <th>16</th>\n",
       "      <td>Electricity</td>\n",
       "      <td>255.379</td>\n",
       "      <td>Electrolyser</td>\n",
       "      <td>2050_high_demand</td>\n",
       "      <td>Run_6_7_</td>\n",
       "    </tr>\n",
       "    <tr>\n",
       "      <th>17</th>\n",
       "      <td>Electrolyser</td>\n",
       "      <td>197.919</td>\n",
       "      <td>Hydrogen</td>\n",
       "      <td>2050_high_demand</td>\n",
       "      <td>Run_6_7_</td>\n",
       "    </tr>\n",
       "    <tr>\n",
       "      <th>18</th>\n",
       "      <td>Electricity</td>\n",
       "      <td>113.920</td>\n",
       "      <td>EV chargers</td>\n",
       "      <td>2050_high_demand</td>\n",
       "      <td>Run_6_7_</td>\n",
       "    </tr>\n",
       "    <tr>\n",
       "      <th>19</th>\n",
       "      <td>EV chargers</td>\n",
       "      <td>113.920</td>\n",
       "      <td>Electricity transport</td>\n",
       "      <td>2050_high_demand</td>\n",
       "      <td>Run_6_7_</td>\n",
       "    </tr>\n",
       "    <tr>\n",
       "      <th>20</th>\n",
       "      <td>Grid electricity</td>\n",
       "      <td>-425.500</td>\n",
       "      <td>Grid substation</td>\n",
       "      <td>2050_high_demand</td>\n",
       "      <td>Run_6_7_</td>\n",
       "    </tr>\n",
       "    <tr>\n",
       "      <th>21</th>\n",
       "      <td>Grid substation</td>\n",
       "      <td>425.500</td>\n",
       "      <td>Primary electricity</td>\n",
       "      <td>2050_high_demand</td>\n",
       "      <td>Run_6_7_</td>\n",
       "    </tr>\n",
       "    <tr>\n",
       "      <th>22</th>\n",
       "      <td>Ground PV</td>\n",
       "      <td>365.858</td>\n",
       "      <td>Primary electricity</td>\n",
       "      <td>2050_high_demand</td>\n",
       "      <td>Run_6_7_</td>\n",
       "    </tr>\n",
       "    <tr>\n",
       "      <th>23</th>\n",
       "      <td>Electricity</td>\n",
       "      <td>518.870</td>\n",
       "      <td>Heat pump</td>\n",
       "      <td>2050_high_demand</td>\n",
       "      <td>Run_6_7_</td>\n",
       "    </tr>\n",
       "    <tr>\n",
       "      <th>24</th>\n",
       "      <td>Heat pump</td>\n",
       "      <td>1297.175</td>\n",
       "      <td>Heat</td>\n",
       "      <td>2050_high_demand</td>\n",
       "      <td>Run_6_7_</td>\n",
       "    </tr>\n",
       "    <tr>\n",
       "      <th>25</th>\n",
       "      <td>Hydroelectricity</td>\n",
       "      <td>4.802</td>\n",
       "      <td>Primary electricity</td>\n",
       "      <td>2050_high_demand</td>\n",
       "      <td>Run_6_7_</td>\n",
       "    </tr>\n",
       "    <tr>\n",
       "      <th>26</th>\n",
       "      <td>Hydrogen</td>\n",
       "      <td>6.016</td>\n",
       "      <td>Hydrogen boiler to heat</td>\n",
       "      <td>2050_high_demand</td>\n",
       "      <td>Run_6_7_</td>\n",
       "    </tr>\n",
       "    <tr>\n",
       "      <th>27</th>\n",
       "      <td>Hydrogen boiler to heat</td>\n",
       "      <td>5.053</td>\n",
       "      <td>Heat</td>\n",
       "      <td>2050_high_demand</td>\n",
       "      <td>Run_6_7_</td>\n",
       "    </tr>\n",
       "    <tr>\n",
       "      <th>28</th>\n",
       "      <td>Hydrogen transport</td>\n",
       "      <td>15.250</td>\n",
       "      <td>Hydrogen bus</td>\n",
       "      <td>2050_high_demand</td>\n",
       "      <td>Run_6_7_</td>\n",
       "    </tr>\n",
       "    <tr>\n",
       "      <th>29</th>\n",
       "      <td>Hydrogen</td>\n",
       "      <td>118.628</td>\n",
       "      <td>Hydrogen export</td>\n",
       "      <td>2050_high_demand</td>\n",
       "      <td>Run_6_7_</td>\n",
       "    </tr>\n",
       "    <tr>\n",
       "      <th>30</th>\n",
       "      <td>Hydrogen export</td>\n",
       "      <td>118.628</td>\n",
       "      <td>Hydrogen export</td>\n",
       "      <td>2050_high_demand</td>\n",
       "      <td>Run_6_7_</td>\n",
       "    </tr>\n",
       "    <tr>\n",
       "      <th>31</th>\n",
       "      <td>Hydrogen transport</td>\n",
       "      <td>20.507</td>\n",
       "      <td>Hydrogen HGV</td>\n",
       "      <td>2050_high_demand</td>\n",
       "      <td>Run_6_7_</td>\n",
       "    </tr>\n",
       "    <tr>\n",
       "      <th>32</th>\n",
       "      <td>Hydrogen import</td>\n",
       "      <td>76.121</td>\n",
       "      <td>Hydrogen</td>\n",
       "      <td>2050_high_demand</td>\n",
       "      <td>Run_6_7_</td>\n",
       "    </tr>\n",
       "    <tr>\n",
       "      <th>33</th>\n",
       "      <td>Hydrogen</td>\n",
       "      <td>108.396</td>\n",
       "      <td>Hydrogen refueller</td>\n",
       "      <td>2050_high_demand</td>\n",
       "      <td>Run_6_7_</td>\n",
       "    </tr>\n",
       "    <tr>\n",
       "      <th>34</th>\n",
       "      <td>Hydrogen refueller</td>\n",
       "      <td>48.778</td>\n",
       "      <td>Hydrogen transport</td>\n",
       "      <td>2050_high_demand</td>\n",
       "      <td>Run_6_7_</td>\n",
       "    </tr>\n",
       "    <tr>\n",
       "      <th>35</th>\n",
       "      <td>Hydrogen transport</td>\n",
       "      <td>6.365</td>\n",
       "      <td>Hydrogen storage transport</td>\n",
       "      <td>2050_high_demand</td>\n",
       "      <td>Run_6_7_</td>\n",
       "    </tr>\n",
       "    <tr>\n",
       "      <th>36</th>\n",
       "      <td>Hydrogen storage transport</td>\n",
       "      <td>5.624</td>\n",
       "      <td>Hydrogen transport</td>\n",
       "      <td>2050_high_demand</td>\n",
       "      <td>Run_6_7_</td>\n",
       "    </tr>\n",
       "    <tr>\n",
       "      <th>37</th>\n",
       "      <td>Hydrogen transport</td>\n",
       "      <td>12.280</td>\n",
       "      <td>Hydrogen van</td>\n",
       "      <td>2050_high_demand</td>\n",
       "      <td>Run_6_7_</td>\n",
       "    </tr>\n",
       "    <tr>\n",
       "      <th>38</th>\n",
       "      <td>National grid import</td>\n",
       "      <td>425.500</td>\n",
       "      <td>Grid electricity</td>\n",
       "      <td>2050_high_demand</td>\n",
       "      <td>Run_6_7_</td>\n",
       "    </tr>\n",
       "    <tr>\n",
       "      <th>39</th>\n",
       "      <td>Onshore wind</td>\n",
       "      <td>55.037</td>\n",
       "      <td>Primary electricity</td>\n",
       "      <td>2050_high_demand</td>\n",
       "      <td>Run_6_7_</td>\n",
       "    </tr>\n",
       "    <tr>\n",
       "      <th>40</th>\n",
       "      <td>Electricity</td>\n",
       "      <td>-0.644</td>\n",
       "      <td>Primary substation</td>\n",
       "      <td>2050_high_demand</td>\n",
       "      <td>Run_6_7_</td>\n",
       "    </tr>\n",
       "    <tr>\n",
       "      <th>41</th>\n",
       "      <td>Primary electricity</td>\n",
       "      <td>-852.083</td>\n",
       "      <td>Primary substation</td>\n",
       "      <td>2050_high_demand</td>\n",
       "      <td>Run_6_7_</td>\n",
       "    </tr>\n",
       "    <tr>\n",
       "      <th>42</th>\n",
       "      <td>Primary substation</td>\n",
       "      <td>851.928</td>\n",
       "      <td>Electricity</td>\n",
       "      <td>2050_high_demand</td>\n",
       "      <td>Run_6_7_</td>\n",
       "    </tr>\n",
       "    <tr>\n",
       "      <th>43</th>\n",
       "      <td>Primary substation</td>\n",
       "      <td>0.798</td>\n",
       "      <td>Primary electricity</td>\n",
       "      <td>2050_high_demand</td>\n",
       "      <td>Run_6_7_</td>\n",
       "    </tr>\n",
       "    <tr>\n",
       "      <th>44</th>\n",
       "      <td>Electricity</td>\n",
       "      <td>58.801</td>\n",
       "      <td>Resistance heating</td>\n",
       "      <td>2050_high_demand</td>\n",
       "      <td>Run_6_7_</td>\n",
       "    </tr>\n",
       "    <tr>\n",
       "      <th>45</th>\n",
       "      <td>Resistance heating</td>\n",
       "      <td>58.801</td>\n",
       "      <td>Heat</td>\n",
       "      <td>2050_high_demand</td>\n",
       "      <td>Run_6_7_</td>\n",
       "    </tr>\n",
       "    <tr>\n",
       "      <th>46</th>\n",
       "      <td>Rooftop PV</td>\n",
       "      <td>662.549</td>\n",
       "      <td>Electricity</td>\n",
       "      <td>2050_high_demand</td>\n",
       "      <td>Run_6_7_</td>\n",
       "    </tr>\n",
       "  </tbody>\n",
       "</table>\n",
       "</div>"
      ],
      "text/plain": [
       "                            input    weight                         output  \\\n",
       "1             Anaerobic digestion     0.086            Primary electricity   \n",
       "2                         Biomass     0.018  Biomass boiler to electricity   \n",
       "3   Biomass boiler to electricity     0.005                    Electricity   \n",
       "4                         Biomass     1.478         Biomass boiler to heat   \n",
       "5          Biomass boiler to heat     1.034                           Heat   \n",
       "6                  Biomass import     1.495                        Biomass   \n",
       "7                     Electricity   566.867             Electricity demand   \n",
       "8                            Heat  1362.064                    Heat demand   \n",
       "9                        Hydrogen    41.000     Industrial hydrogen demand   \n",
       "10                       Hydrogen    41.000     Industrial hydrogen demand   \n",
       "12          Electricity transport     3.610                   Electric bus   \n",
       "13          Electricity transport    97.495                   Electric car   \n",
       "14          Electricity transport     7.864                   Electric HGV   \n",
       "15          Electricity transport     4.951                   Electric van   \n",
       "16                    Electricity   255.379                   Electrolyser   \n",
       "17                   Electrolyser   197.919                       Hydrogen   \n",
       "18                    Electricity   113.920                    EV chargers   \n",
       "19                    EV chargers   113.920          Electricity transport   \n",
       "20               Grid electricity  -425.500                Grid substation   \n",
       "21                Grid substation   425.500            Primary electricity   \n",
       "22                      Ground PV   365.858            Primary electricity   \n",
       "23                    Electricity   518.870                      Heat pump   \n",
       "24                      Heat pump  1297.175                           Heat   \n",
       "25               Hydroelectricity     4.802            Primary electricity   \n",
       "26                       Hydrogen     6.016        Hydrogen boiler to heat   \n",
       "27        Hydrogen boiler to heat     5.053                           Heat   \n",
       "28             Hydrogen transport    15.250                   Hydrogen bus   \n",
       "29                       Hydrogen   118.628                Hydrogen export   \n",
       "30                Hydrogen export   118.628                Hydrogen export   \n",
       "31             Hydrogen transport    20.507                   Hydrogen HGV   \n",
       "32                Hydrogen import    76.121                       Hydrogen   \n",
       "33                       Hydrogen   108.396             Hydrogen refueller   \n",
       "34             Hydrogen refueller    48.778             Hydrogen transport   \n",
       "35             Hydrogen transport     6.365     Hydrogen storage transport   \n",
       "36     Hydrogen storage transport     5.624             Hydrogen transport   \n",
       "37             Hydrogen transport    12.280                   Hydrogen van   \n",
       "38           National grid import   425.500               Grid electricity   \n",
       "39                   Onshore wind    55.037            Primary electricity   \n",
       "40                    Electricity    -0.644             Primary substation   \n",
       "41            Primary electricity  -852.083             Primary substation   \n",
       "42             Primary substation   851.928                    Electricity   \n",
       "43             Primary substation     0.798            Primary electricity   \n",
       "44                    Electricity    58.801             Resistance heating   \n",
       "45             Resistance heating    58.801                           Heat   \n",
       "46                     Rooftop PV   662.549                    Electricity   \n",
       "\n",
       "            scenario iteration  \n",
       "1   2050_high_demand  Run_6_7_  \n",
       "2   2050_high_demand  Run_6_7_  \n",
       "3   2050_high_demand  Run_6_7_  \n",
       "4   2050_high_demand  Run_6_7_  \n",
       "5   2050_high_demand  Run_6_7_  \n",
       "6   2050_high_demand  Run_6_7_  \n",
       "7   2050_high_demand  Run_6_7_  \n",
       "8   2050_high_demand  Run_6_7_  \n",
       "9   2050_high_demand  Run_6_7_  \n",
       "10  2050_high_demand  Run_6_7_  \n",
       "12  2050_high_demand  Run_6_7_  \n",
       "13  2050_high_demand  Run_6_7_  \n",
       "14  2050_high_demand  Run_6_7_  \n",
       "15  2050_high_demand  Run_6_7_  \n",
       "16  2050_high_demand  Run_6_7_  \n",
       "17  2050_high_demand  Run_6_7_  \n",
       "18  2050_high_demand  Run_6_7_  \n",
       "19  2050_high_demand  Run_6_7_  \n",
       "20  2050_high_demand  Run_6_7_  \n",
       "21  2050_high_demand  Run_6_7_  \n",
       "22  2050_high_demand  Run_6_7_  \n",
       "23  2050_high_demand  Run_6_7_  \n",
       "24  2050_high_demand  Run_6_7_  \n",
       "25  2050_high_demand  Run_6_7_  \n",
       "26  2050_high_demand  Run_6_7_  \n",
       "27  2050_high_demand  Run_6_7_  \n",
       "28  2050_high_demand  Run_6_7_  \n",
       "29  2050_high_demand  Run_6_7_  \n",
       "30  2050_high_demand  Run_6_7_  \n",
       "31  2050_high_demand  Run_6_7_  \n",
       "32  2050_high_demand  Run_6_7_  \n",
       "33  2050_high_demand  Run_6_7_  \n",
       "34  2050_high_demand  Run_6_7_  \n",
       "35  2050_high_demand  Run_6_7_  \n",
       "36  2050_high_demand  Run_6_7_  \n",
       "37  2050_high_demand  Run_6_7_  \n",
       "38  2050_high_demand  Run_6_7_  \n",
       "39  2050_high_demand  Run_6_7_  \n",
       "40  2050_high_demand  Run_6_7_  \n",
       "41  2050_high_demand  Run_6_7_  \n",
       "42  2050_high_demand  Run_6_7_  \n",
       "43  2050_high_demand  Run_6_7_  \n",
       "44  2050_high_demand  Run_6_7_  \n",
       "45  2050_high_demand  Run_6_7_  \n",
       "46  2050_high_demand  Run_6_7_  "
      ]
     },
     "metadata": {},
     "output_type": "display_data"
    }
   ],
   "source": [
    "display(df)"
   ]
  },
  {
   "cell_type": "code",
   "execution_count": null,
   "id": "65c20da6",
   "metadata": {
    "scrolled": false
   },
   "outputs": [
    {
     "data": {
      "text/html": [
       "<div>\n",
       "<style scoped>\n",
       "    .dataframe tbody tr th:only-of-type {\n",
       "        vertical-align: middle;\n",
       "    }\n",
       "\n",
       "    .dataframe tbody tr th {\n",
       "        vertical-align: top;\n",
       "    }\n",
       "\n",
       "    .dataframe thead th {\n",
       "        text-align: right;\n",
       "    }\n",
       "</style>\n",
       "<table border=\"1\" class=\"dataframe\">\n",
       "  <thead>\n",
       "    <tr style=\"text-align: right;\">\n",
       "      <th></th>\n",
       "      <th>input</th>\n",
       "      <th>weight</th>\n",
       "      <th>output</th>\n",
       "      <th>scenario</th>\n",
       "      <th>iteration</th>\n",
       "    </tr>\n",
       "  </thead>\n",
       "  <tbody>\n",
       "    <tr>\n",
       "      <th>1</th>\n",
       "      <td>Anaerobic digestion</td>\n",
       "      <td>0.086</td>\n",
       "      <td>Electricity</td>\n",
       "      <td>2050_high_demand</td>\n",
       "      <td>Run_6_7_</td>\n",
       "    </tr>\n",
       "    <tr>\n",
       "      <th>2</th>\n",
       "      <td>Biomass</td>\n",
       "      <td>0.018</td>\n",
       "      <td>Biomass boiler to electricity</td>\n",
       "      <td>2050_high_demand</td>\n",
       "      <td>Run_6_7_</td>\n",
       "    </tr>\n",
       "    <tr>\n",
       "      <th>3</th>\n",
       "      <td>Biomass boiler to electricity</td>\n",
       "      <td>0.005</td>\n",
       "      <td>Electricity</td>\n",
       "      <td>2050_high_demand</td>\n",
       "      <td>Run_6_7_</td>\n",
       "    </tr>\n",
       "    <tr>\n",
       "      <th>4</th>\n",
       "      <td>Biomass</td>\n",
       "      <td>1.478</td>\n",
       "      <td>Biomass boiler to heat</td>\n",
       "      <td>2050_high_demand</td>\n",
       "      <td>Run_6_7_</td>\n",
       "    </tr>\n",
       "    <tr>\n",
       "      <th>5</th>\n",
       "      <td>Biomass boiler to heat</td>\n",
       "      <td>1.034</td>\n",
       "      <td>Heat</td>\n",
       "      <td>2050_high_demand</td>\n",
       "      <td>Run_6_7_</td>\n",
       "    </tr>\n",
       "    <tr>\n",
       "      <th>7</th>\n",
       "      <td>Electricity</td>\n",
       "      <td>566.867</td>\n",
       "      <td>Electricity demand</td>\n",
       "      <td>2050_high_demand</td>\n",
       "      <td>Run_6_7_</td>\n",
       "    </tr>\n",
       "    <tr>\n",
       "      <th>8</th>\n",
       "      <td>Heat</td>\n",
       "      <td>1362.064</td>\n",
       "      <td>Heat demand</td>\n",
       "      <td>2050_high_demand</td>\n",
       "      <td>Run_6_7_</td>\n",
       "    </tr>\n",
       "    <tr>\n",
       "      <th>9</th>\n",
       "      <td>Hydrogen</td>\n",
       "      <td>41.000</td>\n",
       "      <td>Industrial hydrogen demand</td>\n",
       "      <td>2050_high_demand</td>\n",
       "      <td>Run_6_7_</td>\n",
       "    </tr>\n",
       "    <tr>\n",
       "      <th>10</th>\n",
       "      <td>Hydrogen</td>\n",
       "      <td>41.000</td>\n",
       "      <td>Industrial hydrogen demand</td>\n",
       "      <td>2050_high_demand</td>\n",
       "      <td>Run_6_7_</td>\n",
       "    </tr>\n",
       "    <tr>\n",
       "      <th>16</th>\n",
       "      <td>Electricity</td>\n",
       "      <td>255.379</td>\n",
       "      <td>Electrolyser</td>\n",
       "      <td>2050_high_demand</td>\n",
       "      <td>Run_6_7_</td>\n",
       "    </tr>\n",
       "    <tr>\n",
       "      <th>17</th>\n",
       "      <td>Electrolyser</td>\n",
       "      <td>197.919</td>\n",
       "      <td>Hydrogen</td>\n",
       "      <td>2050_high_demand</td>\n",
       "      <td>Run_6_7_</td>\n",
       "    </tr>\n",
       "    <tr>\n",
       "      <th>18</th>\n",
       "      <td>Electricity</td>\n",
       "      <td>113.920</td>\n",
       "      <td>EV chargers</td>\n",
       "      <td>2050_high_demand</td>\n",
       "      <td>Run_6_7_</td>\n",
       "    </tr>\n",
       "    <tr>\n",
       "      <th>19</th>\n",
       "      <td>EV chargers</td>\n",
       "      <td>113.920</td>\n",
       "      <td>Electricity transport</td>\n",
       "      <td>2050_high_demand</td>\n",
       "      <td>Run_6_7_</td>\n",
       "    </tr>\n",
       "    <tr>\n",
       "      <th>22</th>\n",
       "      <td>Ground PV</td>\n",
       "      <td>365.858</td>\n",
       "      <td>Electricity</td>\n",
       "      <td>2050_high_demand</td>\n",
       "      <td>Run_6_7_</td>\n",
       "    </tr>\n",
       "    <tr>\n",
       "      <th>23</th>\n",
       "      <td>Electricity</td>\n",
       "      <td>518.870</td>\n",
       "      <td>Heat pump</td>\n",
       "      <td>2050_high_demand</td>\n",
       "      <td>Run_6_7_</td>\n",
       "    </tr>\n",
       "    <tr>\n",
       "      <th>24</th>\n",
       "      <td>Heat pump</td>\n",
       "      <td>1297.175</td>\n",
       "      <td>Heat</td>\n",
       "      <td>2050_high_demand</td>\n",
       "      <td>Run_6_7_</td>\n",
       "    </tr>\n",
       "    <tr>\n",
       "      <th>25</th>\n",
       "      <td>Hydroelectricity</td>\n",
       "      <td>4.802</td>\n",
       "      <td>Electricity</td>\n",
       "      <td>2050_high_demand</td>\n",
       "      <td>Run_6_7_</td>\n",
       "    </tr>\n",
       "    <tr>\n",
       "      <th>26</th>\n",
       "      <td>Hydrogen</td>\n",
       "      <td>6.016</td>\n",
       "      <td>Hydrogen boiler to heat</td>\n",
       "      <td>2050_high_demand</td>\n",
       "      <td>Run_6_7_</td>\n",
       "    </tr>\n",
       "    <tr>\n",
       "      <th>27</th>\n",
       "      <td>Hydrogen boiler to heat</td>\n",
       "      <td>5.053</td>\n",
       "      <td>Heat</td>\n",
       "      <td>2050_high_demand</td>\n",
       "      <td>Run_6_7_</td>\n",
       "    </tr>\n",
       "    <tr>\n",
       "      <th>29</th>\n",
       "      <td>Hydrogen</td>\n",
       "      <td>118.628</td>\n",
       "      <td>Hydrogen export</td>\n",
       "      <td>2050_high_demand</td>\n",
       "      <td>Run_6_7_</td>\n",
       "    </tr>\n",
       "    <tr>\n",
       "      <th>32</th>\n",
       "      <td>Hydrogen import</td>\n",
       "      <td>76.121</td>\n",
       "      <td>Hydrogen</td>\n",
       "      <td>2050_high_demand</td>\n",
       "      <td>Run_6_7_</td>\n",
       "    </tr>\n",
       "    <tr>\n",
       "      <th>33</th>\n",
       "      <td>Hydrogen</td>\n",
       "      <td>108.396</td>\n",
       "      <td>Hydrogen refueller to transport</td>\n",
       "      <td>2050_high_demand</td>\n",
       "      <td>Run_6_7_</td>\n",
       "    </tr>\n",
       "    <tr>\n",
       "      <th>38</th>\n",
       "      <td>National grid import</td>\n",
       "      <td>425.500</td>\n",
       "      <td>Electricity</td>\n",
       "      <td>2050_high_demand</td>\n",
       "      <td>Run_6_7_</td>\n",
       "    </tr>\n",
       "    <tr>\n",
       "      <th>39</th>\n",
       "      <td>Onshore wind</td>\n",
       "      <td>55.037</td>\n",
       "      <td>Electricity</td>\n",
       "      <td>2050_high_demand</td>\n",
       "      <td>Run_6_7_</td>\n",
       "    </tr>\n",
       "    <tr>\n",
       "      <th>44</th>\n",
       "      <td>Electricity</td>\n",
       "      <td>58.801</td>\n",
       "      <td>Resistance heating</td>\n",
       "      <td>2050_high_demand</td>\n",
       "      <td>Run_6_7_</td>\n",
       "    </tr>\n",
       "    <tr>\n",
       "      <th>45</th>\n",
       "      <td>Resistance heating</td>\n",
       "      <td>58.801</td>\n",
       "      <td>Heat</td>\n",
       "      <td>2050_high_demand</td>\n",
       "      <td>Run_6_7_</td>\n",
       "    </tr>\n",
       "    <tr>\n",
       "      <th>46</th>\n",
       "      <td>Rooftop PV</td>\n",
       "      <td>662.549</td>\n",
       "      <td>Electricity</td>\n",
       "      <td>2050_high_demand</td>\n",
       "      <td>Run_6_7_</td>\n",
       "    </tr>\n",
       "  </tbody>\n",
       "</table>\n",
       "</div>"
      ],
      "text/plain": [
       "                            input    weight                           output  \\\n",
       "1             Anaerobic digestion     0.086                      Electricity   \n",
       "2                         Biomass     0.018    Biomass boiler to electricity   \n",
       "3   Biomass boiler to electricity     0.005                      Electricity   \n",
       "4                         Biomass     1.478           Biomass boiler to heat   \n",
       "5          Biomass boiler to heat     1.034                             Heat   \n",
       "7                     Electricity   566.867               Electricity demand   \n",
       "8                            Heat  1362.064                      Heat demand   \n",
       "9                        Hydrogen    41.000       Industrial hydrogen demand   \n",
       "10                       Hydrogen    41.000       Industrial hydrogen demand   \n",
       "16                    Electricity   255.379                     Electrolyser   \n",
       "17                   Electrolyser   197.919                         Hydrogen   \n",
       "18                    Electricity   113.920                      EV chargers   \n",
       "19                    EV chargers   113.920            Electricity transport   \n",
       "22                      Ground PV   365.858                      Electricity   \n",
       "23                    Electricity   518.870                        Heat pump   \n",
       "24                      Heat pump  1297.175                             Heat   \n",
       "25               Hydroelectricity     4.802                      Electricity   \n",
       "26                       Hydrogen     6.016          Hydrogen boiler to heat   \n",
       "27        Hydrogen boiler to heat     5.053                             Heat   \n",
       "29                       Hydrogen   118.628                  Hydrogen export   \n",
       "32                Hydrogen import    76.121                         Hydrogen   \n",
       "33                       Hydrogen   108.396  Hydrogen refueller to transport   \n",
       "38           National grid import   425.500                      Electricity   \n",
       "39                   Onshore wind    55.037                      Electricity   \n",
       "44                    Electricity    58.801               Resistance heating   \n",
       "45             Resistance heating    58.801                             Heat   \n",
       "46                     Rooftop PV   662.549                      Electricity   \n",
       "\n",
       "            scenario iteration  \n",
       "1   2050_high_demand  Run_6_7_  \n",
       "2   2050_high_demand  Run_6_7_  \n",
       "3   2050_high_demand  Run_6_7_  \n",
       "4   2050_high_demand  Run_6_7_  \n",
       "5   2050_high_demand  Run_6_7_  \n",
       "7   2050_high_demand  Run_6_7_  \n",
       "8   2050_high_demand  Run_6_7_  \n",
       "9   2050_high_demand  Run_6_7_  \n",
       "10  2050_high_demand  Run_6_7_  \n",
       "16  2050_high_demand  Run_6_7_  \n",
       "17  2050_high_demand  Run_6_7_  \n",
       "18  2050_high_demand  Run_6_7_  \n",
       "19  2050_high_demand  Run_6_7_  \n",
       "22  2050_high_demand  Run_6_7_  \n",
       "23  2050_high_demand  Run_6_7_  \n",
       "24  2050_high_demand  Run_6_7_  \n",
       "25  2050_high_demand  Run_6_7_  \n",
       "26  2050_high_demand  Run_6_7_  \n",
       "27  2050_high_demand  Run_6_7_  \n",
       "29  2050_high_demand  Run_6_7_  \n",
       "32  2050_high_demand  Run_6_7_  \n",
       "33  2050_high_demand  Run_6_7_  \n",
       "38  2050_high_demand  Run_6_7_  \n",
       "39  2050_high_demand  Run_6_7_  \n",
       "44  2050_high_demand  Run_6_7_  \n",
       "45  2050_high_demand  Run_6_7_  \n",
       "46  2050_high_demand  Run_6_7_  "
      ]
     },
     "metadata": {},
     "output_type": "display_data"
    }
   ],
   "source": [
    "#filter out unwanted values here\n",
    "#function to remove unwanted rows/unnecessary detail - could be improved/automated \n",
    "\n",
    "# #removing unwanted rows\n",
    "df = df[df['input'].str.contains('elec_lines') == False]\n",
    "df = df[df['input'].str.contains('Hydrogen refueller') == False]\n",
    "df = df[df['input'].str.contains('substation') == False]\n",
    "df = df[df['input'].str.contains('mileage') == False]\n",
    "df = df[df['output'].str.contains('mileage') == False]\n",
    "df = df[df['input'].str.contains('transport') == False]\n",
    "df = df[df['input'].str.contains('Biomass import') == False]\n",
    "df = df[df['input'].str.contains('export') == False]\n",
    "df = df[df['output'].str.contains('elec_lines') == False]\n",
    "df = df[df['output'].str.contains('substation') == False]\n",
    "\n",
    "# #editing rows\n",
    "df.loc[(df['input']=='Primary electricity'), 'input'] = 'Electricity'\n",
    "df.loc[(df['output']=='Hydrogen refueller'), 'output'] = 'Hydrogen refueller to transport'\n",
    "df.loc[(df['output']=='Primary electricity'), 'output'] = 'Electricity'\n",
    "df.loc[(df['input']=='Grid electricity'), 'input'] = 'Electricity'\n",
    "df.loc[(df['output']=='Grid electricity'), 'output'] = 'Electricity'\n",
    "df.loc[(df['output']=='Grid electricity'), 'output'] = 'Electricity'\n",
    "\n",
    "#remove very small flows\n",
    "# df = df[df['weight'] < 1) == False]\n",
    "\n",
    "########################################################\n",
    "# general editing syntax:\n",
    "#to change the numeric value of the line with \"X\" as the input:\n",
    "#df.loc[(df['input']=='X'), 'weight'] = 'new_value'\n",
    "#to delete the row with \"Y\" as the output\n",
    "#df = df[df['output'].str.contains('Y') == False]\n",
    "#to remove a specific row with index number Z:\n",
    "# df = df.drop(Z)\n",
    "\n",
    "#check results are looking ok\n",
    "display(df)"
   ]
  },
  {
   "cell_type": "code",
   "execution_count": null,
   "id": "8c0085ac",
   "metadata": {
    "scrolled": true
   },
   "outputs": [],
   "source": [
    "#make any further corrections to the data here, repeating process of above cell"
   ]
  },
  {
   "cell_type": "code",
   "execution_count": null,
   "id": "7a094ca7",
   "metadata": {},
   "outputs": [
    {
     "data": {
      "text/html": [
       "<div>\n",
       "<style scoped>\n",
       "    .dataframe tbody tr th:only-of-type {\n",
       "        vertical-align: middle;\n",
       "    }\n",
       "\n",
       "    .dataframe tbody tr th {\n",
       "        vertical-align: top;\n",
       "    }\n",
       "\n",
       "    .dataframe thead th {\n",
       "        text-align: right;\n",
       "    }\n",
       "</style>\n",
       "<table border=\"1\" class=\"dataframe\">\n",
       "  <thead>\n",
       "    <tr style=\"text-align: right;\">\n",
       "      <th></th>\n",
       "      <th>input</th>\n",
       "      <th>weight</th>\n",
       "      <th>output</th>\n",
       "      <th>scenario</th>\n",
       "      <th>iteration</th>\n",
       "    </tr>\n",
       "  </thead>\n",
       "  <tbody>\n",
       "    <tr>\n",
       "      <th>1</th>\n",
       "      <td>Anaerobic digestion</td>\n",
       "      <td>0.086</td>\n",
       "      <td>Electricity</td>\n",
       "      <td>2050_high_demand</td>\n",
       "      <td>Run_6_7_</td>\n",
       "    </tr>\n",
       "    <tr>\n",
       "      <th>2</th>\n",
       "      <td>Biomass</td>\n",
       "      <td>0.018</td>\n",
       "      <td>Biomass boiler to electricity</td>\n",
       "      <td>2050_high_demand</td>\n",
       "      <td>Run_6_7_</td>\n",
       "    </tr>\n",
       "    <tr>\n",
       "      <th>3</th>\n",
       "      <td>Biomass boiler to electricity</td>\n",
       "      <td>0.005</td>\n",
       "      <td>Electricity</td>\n",
       "      <td>2050_high_demand</td>\n",
       "      <td>Run_6_7_</td>\n",
       "    </tr>\n",
       "    <tr>\n",
       "      <th>4</th>\n",
       "      <td>Biomass</td>\n",
       "      <td>1.478</td>\n",
       "      <td>Biomass boiler to heat</td>\n",
       "      <td>2050_high_demand</td>\n",
       "      <td>Run_6_7_</td>\n",
       "    </tr>\n",
       "    <tr>\n",
       "      <th>5</th>\n",
       "      <td>Biomass boiler to heat</td>\n",
       "      <td>1.034</td>\n",
       "      <td>Heat</td>\n",
       "      <td>2050_high_demand</td>\n",
       "      <td>Run_6_7_</td>\n",
       "    </tr>\n",
       "    <tr>\n",
       "      <th>7</th>\n",
       "      <td>Electricity</td>\n",
       "      <td>566.867</td>\n",
       "      <td>Electricity demand</td>\n",
       "      <td>2050_high_demand</td>\n",
       "      <td>Run_6_7_</td>\n",
       "    </tr>\n",
       "    <tr>\n",
       "      <th>8</th>\n",
       "      <td>Heat</td>\n",
       "      <td>1362.064</td>\n",
       "      <td>Heat demand</td>\n",
       "      <td>2050_high_demand</td>\n",
       "      <td>Run_6_7_</td>\n",
       "    </tr>\n",
       "    <tr>\n",
       "      <th>9</th>\n",
       "      <td>Hydrogen</td>\n",
       "      <td>41.000</td>\n",
       "      <td>Industrial hydrogen demand</td>\n",
       "      <td>2050_high_demand</td>\n",
       "      <td>Run_6_7_</td>\n",
       "    </tr>\n",
       "    <tr>\n",
       "      <th>10</th>\n",
       "      <td>Hydrogen</td>\n",
       "      <td>41.000</td>\n",
       "      <td>Industrial hydrogen demand</td>\n",
       "      <td>2050_high_demand</td>\n",
       "      <td>Run_6_7_</td>\n",
       "    </tr>\n",
       "    <tr>\n",
       "      <th>16</th>\n",
       "      <td>Electricity</td>\n",
       "      <td>255.379</td>\n",
       "      <td>Electrolyser</td>\n",
       "      <td>2050_high_demand</td>\n",
       "      <td>Run_6_7_</td>\n",
       "    </tr>\n",
       "    <tr>\n",
       "      <th>17</th>\n",
       "      <td>Electrolyser</td>\n",
       "      <td>197.919</td>\n",
       "      <td>Hydrogen</td>\n",
       "      <td>2050_high_demand</td>\n",
       "      <td>Run_6_7_</td>\n",
       "    </tr>\n",
       "    <tr>\n",
       "      <th>18</th>\n",
       "      <td>Electricity</td>\n",
       "      <td>113.920</td>\n",
       "      <td>EV chargers</td>\n",
       "      <td>2050_high_demand</td>\n",
       "      <td>Run_6_7_</td>\n",
       "    </tr>\n",
       "    <tr>\n",
       "      <th>19</th>\n",
       "      <td>EV chargers</td>\n",
       "      <td>113.920</td>\n",
       "      <td>Electricity transport</td>\n",
       "      <td>2050_high_demand</td>\n",
       "      <td>Run_6_7_</td>\n",
       "    </tr>\n",
       "    <tr>\n",
       "      <th>22</th>\n",
       "      <td>Ground PV</td>\n",
       "      <td>365.858</td>\n",
       "      <td>Electricity</td>\n",
       "      <td>2050_high_demand</td>\n",
       "      <td>Run_6_7_</td>\n",
       "    </tr>\n",
       "    <tr>\n",
       "      <th>23</th>\n",
       "      <td>Electricity</td>\n",
       "      <td>518.870</td>\n",
       "      <td>Heat pump</td>\n",
       "      <td>2050_high_demand</td>\n",
       "      <td>Run_6_7_</td>\n",
       "    </tr>\n",
       "    <tr>\n",
       "      <th>24</th>\n",
       "      <td>Heat pump</td>\n",
       "      <td>1297.175</td>\n",
       "      <td>Heat</td>\n",
       "      <td>2050_high_demand</td>\n",
       "      <td>Run_6_7_</td>\n",
       "    </tr>\n",
       "    <tr>\n",
       "      <th>25</th>\n",
       "      <td>Hydroelectricity</td>\n",
       "      <td>4.802</td>\n",
       "      <td>Electricity</td>\n",
       "      <td>2050_high_demand</td>\n",
       "      <td>Run_6_7_</td>\n",
       "    </tr>\n",
       "    <tr>\n",
       "      <th>26</th>\n",
       "      <td>Hydrogen</td>\n",
       "      <td>6.016</td>\n",
       "      <td>Hydrogen boiler to heat</td>\n",
       "      <td>2050_high_demand</td>\n",
       "      <td>Run_6_7_</td>\n",
       "    </tr>\n",
       "    <tr>\n",
       "      <th>27</th>\n",
       "      <td>Hydrogen boiler to heat</td>\n",
       "      <td>5.053</td>\n",
       "      <td>Heat</td>\n",
       "      <td>2050_high_demand</td>\n",
       "      <td>Run_6_7_</td>\n",
       "    </tr>\n",
       "    <tr>\n",
       "      <th>29</th>\n",
       "      <td>Hydrogen</td>\n",
       "      <td>118.628</td>\n",
       "      <td>Hydrogen export</td>\n",
       "      <td>2050_high_demand</td>\n",
       "      <td>Run_6_7_</td>\n",
       "    </tr>\n",
       "    <tr>\n",
       "      <th>32</th>\n",
       "      <td>Hydrogen import</td>\n",
       "      <td>76.121</td>\n",
       "      <td>Hydrogen</td>\n",
       "      <td>2050_high_demand</td>\n",
       "      <td>Run_6_7_</td>\n",
       "    </tr>\n",
       "    <tr>\n",
       "      <th>33</th>\n",
       "      <td>Hydrogen</td>\n",
       "      <td>108.396</td>\n",
       "      <td>Hydrogen refueller to transport</td>\n",
       "      <td>2050_high_demand</td>\n",
       "      <td>Run_6_7_</td>\n",
       "    </tr>\n",
       "    <tr>\n",
       "      <th>38</th>\n",
       "      <td>National grid import</td>\n",
       "      <td>425.500</td>\n",
       "      <td>Electricity</td>\n",
       "      <td>2050_high_demand</td>\n",
       "      <td>Run_6_7_</td>\n",
       "    </tr>\n",
       "    <tr>\n",
       "      <th>39</th>\n",
       "      <td>Onshore wind</td>\n",
       "      <td>55.037</td>\n",
       "      <td>Electricity</td>\n",
       "      <td>2050_high_demand</td>\n",
       "      <td>Run_6_7_</td>\n",
       "    </tr>\n",
       "    <tr>\n",
       "      <th>44</th>\n",
       "      <td>Electricity</td>\n",
       "      <td>58.801</td>\n",
       "      <td>Resistance heating</td>\n",
       "      <td>2050_high_demand</td>\n",
       "      <td>Run_6_7_</td>\n",
       "    </tr>\n",
       "    <tr>\n",
       "      <th>45</th>\n",
       "      <td>Resistance heating</td>\n",
       "      <td>58.801</td>\n",
       "      <td>Heat</td>\n",
       "      <td>2050_high_demand</td>\n",
       "      <td>Run_6_7_</td>\n",
       "    </tr>\n",
       "    <tr>\n",
       "      <th>46</th>\n",
       "      <td>Rooftop PV</td>\n",
       "      <td>662.549</td>\n",
       "      <td>Electricity</td>\n",
       "      <td>2050_high_demand</td>\n",
       "      <td>Run_6_7_</td>\n",
       "    </tr>\n",
       "  </tbody>\n",
       "</table>\n",
       "</div>"
      ],
      "text/plain": [
       "                            input    weight                           output  \\\n",
       "1             Anaerobic digestion     0.086                      Electricity   \n",
       "2                         Biomass     0.018    Biomass boiler to electricity   \n",
       "3   Biomass boiler to electricity     0.005                      Electricity   \n",
       "4                         Biomass     1.478           Biomass boiler to heat   \n",
       "5          Biomass boiler to heat     1.034                             Heat   \n",
       "7                     Electricity   566.867               Electricity demand   \n",
       "8                            Heat  1362.064                      Heat demand   \n",
       "9                        Hydrogen    41.000       Industrial hydrogen demand   \n",
       "10                       Hydrogen    41.000       Industrial hydrogen demand   \n",
       "16                    Electricity   255.379                     Electrolyser   \n",
       "17                   Electrolyser   197.919                         Hydrogen   \n",
       "18                    Electricity   113.920                      EV chargers   \n",
       "19                    EV chargers   113.920            Electricity transport   \n",
       "22                      Ground PV   365.858                      Electricity   \n",
       "23                    Electricity   518.870                        Heat pump   \n",
       "24                      Heat pump  1297.175                             Heat   \n",
       "25               Hydroelectricity     4.802                      Electricity   \n",
       "26                       Hydrogen     6.016          Hydrogen boiler to heat   \n",
       "27        Hydrogen boiler to heat     5.053                             Heat   \n",
       "29                       Hydrogen   118.628                  Hydrogen export   \n",
       "32                Hydrogen import    76.121                         Hydrogen   \n",
       "33                       Hydrogen   108.396  Hydrogen refueller to transport   \n",
       "38           National grid import   425.500                      Electricity   \n",
       "39                   Onshore wind    55.037                      Electricity   \n",
       "44                    Electricity    58.801               Resistance heating   \n",
       "45             Resistance heating    58.801                             Heat   \n",
       "46                     Rooftop PV   662.549                      Electricity   \n",
       "\n",
       "            scenario iteration  \n",
       "1   2050_high_demand  Run_6_7_  \n",
       "2   2050_high_demand  Run_6_7_  \n",
       "3   2050_high_demand  Run_6_7_  \n",
       "4   2050_high_demand  Run_6_7_  \n",
       "5   2050_high_demand  Run_6_7_  \n",
       "7   2050_high_demand  Run_6_7_  \n",
       "8   2050_high_demand  Run_6_7_  \n",
       "9   2050_high_demand  Run_6_7_  \n",
       "10  2050_high_demand  Run_6_7_  \n",
       "16  2050_high_demand  Run_6_7_  \n",
       "17  2050_high_demand  Run_6_7_  \n",
       "18  2050_high_demand  Run_6_7_  \n",
       "19  2050_high_demand  Run_6_7_  \n",
       "22  2050_high_demand  Run_6_7_  \n",
       "23  2050_high_demand  Run_6_7_  \n",
       "24  2050_high_demand  Run_6_7_  \n",
       "25  2050_high_demand  Run_6_7_  \n",
       "26  2050_high_demand  Run_6_7_  \n",
       "27  2050_high_demand  Run_6_7_  \n",
       "29  2050_high_demand  Run_6_7_  \n",
       "32  2050_high_demand  Run_6_7_  \n",
       "33  2050_high_demand  Run_6_7_  \n",
       "38  2050_high_demand  Run_6_7_  \n",
       "39  2050_high_demand  Run_6_7_  \n",
       "44  2050_high_demand  Run_6_7_  \n",
       "45  2050_high_demand  Run_6_7_  \n",
       "46  2050_high_demand  Run_6_7_  "
      ]
     },
     "metadata": {},
     "output_type": "display_data"
    }
   ],
   "source": [
    "#check the data looks ok. if not, repeat above cells\n",
    "display(df)"
   ]
  },
  {
   "cell_type": "code",
   "execution_count": null,
   "id": "b1182397",
   "metadata": {},
   "outputs": [],
   "source": [
    "# #for generating random colours for the nodes\n",
    "# import random\n",
    "# label_colours = []\n",
    "# hexs = random.sample(range(0, 16777215), len(my_sankey['source']))\n",
    "# for j in range(len(my_sankey['source'])):\n",
    "#     no1 = random.randint(0,256)\n",
    "#     no2 = random.randint(0,256)\n",
    "#     no3 = random.randint(0,256)\n",
    "#     label_colours.append(\"rgb(\"+str(no1)+\", \"+str(no2)+\", \"+str(no3)+\")\")    "
   ]
  },
  {
   "cell_type": "code",
   "execution_count": null,
   "id": "bf5277df",
   "metadata": {},
   "outputs": [],
   "source": [
    "#for a specific set of colours, define a colour dictionary\n",
    "#add any technologies in the format:\n",
    "#{'Technology name [as in the dataframe]':'hex colour code'}\n",
    "\n",
    "colour_dict = {\n",
    "    'Anaerobic digestion':'#808080',\n",
    "    'Battery':'#7f0000',\n",
    "    'Biomass':'#006400',\n",
    "    'Hydrogen':'#808000',\n",
    "    'Boiler':'#808000',\n",
    "    'Electricity':'#483d8b',\n",
    "    'Biomass boiler to electricity':'#3cb371',\n",
    "    'Biomass boiler to heat':'#008080',\n",
    "    'Heat':'#000080',\n",
    "    'Heat demand':'#4682b4',\n",
    "    'Electricity transport':'#cd853f',\n",
    "    'Petrol/diesel':'#cd853f',\n",
    "    'Electricity demand':'#7e7a36',\n",
    "    'Hydrogen heat demand':'#32cd32',\n",
    "    'Industrial hydrogen demand':'#8b008b',\n",
    "    'Electrolyser':'#b03060',\n",
    "    'EV chargers':'#d2b48c',\n",
    "    'Bioenergy and waste':'#d2b48c',\n",
    "    'Ground PV':'#ff4500',\n",
    "    'Heat network':'#00ff00',\n",
    "    'Heat pump':'#00ced1',\n",
    "    'Hydroelectricity':'#ff8c00',\n",
    "    'Hydrogen CCGT':'#ffd700',\n",
    "    'Oil/solid/coal':'#ffd700',\n",
    "    'Hydrogen OCGT':'#0000ff',\n",
    "    'Hydrogen boiler to heat':'#a020f0',\n",
    "    'Transport demand':'#a020f0',\n",
    "    'Hydrogen CHP':'#f08080',\n",
    "    'Gas boiler':'#f08080',\n",
    "    'Hydrogen export':'#adff2f',\n",
    "    'Hydrogen import':'#dc143c',\n",
    "    'Natural gas':'#dc143c',\n",
    "    'Hydrogen refueller to transport':'#b0c4de',\n",
    "    'Road vehicles':'#b0c4de',\n",
    "    'Hydrogen storage tank':'#f0e68c',\n",
    "    'Hydrogen transport':'#1e90ff',\n",
    "    'National grid export':'#ff00ff',\n",
    "    'National grid import':'#d6f0ef',\n",
    "    'Onshore wind':'#98fb98',\n",
    "    'Resistance heating':'#7b68ee',\n",
    "    'Rail':'#7b68ee',\n",
    "    'Rooftop PV':'#ee82ee',\n",
    "    'Sewage gas':'#98fb98',\n",
    "    'Solar thermal':'#7fffd4',\n",
    "    'Hydrogen heat':'#f0e68c',\n",
    "    'Landfill gas':'#ffc0cb'\n",
    "}"
   ]
  },
  {
   "cell_type": "code",
   "execution_count": null,
   "id": "e4dd6c64",
   "metadata": {},
   "outputs": [],
   "source": [
    "#function for assigining colours to nodes as defined by their label\n",
    "def assign_colour(label_input):\n",
    "    for label, colour in colour_dict.items():\n",
    "        if label == label_input:\n",
    "            return colour"
   ]
  },
  {
   "cell_type": "code",
   "execution_count": null,
   "id": "a860b17f",
   "metadata": {},
   "outputs": [],
   "source": [
    "#set up inputs for sankey builder\n",
    "#source of original code (edited here): https://medium.com/codex/how-to-automatically-generate-data-structure-for-sankey-diagrams-6082e332139f\n",
    "def get_sankey(data,path,value_col):\n",
    "    sankey_data = {\n",
    "    'label':[],\n",
    "    'source': [],\n",
    "    'target' : [],\n",
    "    'value' : []\n",
    "\n",
    "    }\n",
    "    counter = 0\n",
    "    while (counter < len(path) - 1):\n",
    "        for parent in data[path[counter]].unique():\n",
    "            sankey_data['label'].append(parent)\n",
    "            for inputs in data[data[path[counter]] == parent][path[counter]].unique():\n",
    "                for outputs in data[data[path[counter]] == parent][path[counter+1]]:\n",
    "                    weights = data[(data[path[counter+1]] == outputs) & (data[path[counter]] == inputs)][value_col].sum()\n",
    "                    sankey_data['label'].append(outputs)\n",
    "                    sankey_data['source'].append(sankey_data['label'].index(parent))\n",
    "                    sankey_data['target'].append(sankey_data['label'].index(outputs))\n",
    "                    sankey_data['value'].append(round(float(weights)))\n",
    "        counter +=1\n",
    "    return sankey_data\n",
    "my_sankey = get_sankey(df, ['input','output'],'weight')\n",
    "\n",
    "#add weight value to labels and assign colours\n",
    "label_vals = []\n",
    "colours_list = []\n",
    "for i in my_sankey['label']:\n",
    "    colours_list.append(assign_colour(i))\n",
    "    if i in df['input'].values:\n",
    "        temp = df[df['input']==i]['weight'].sum()\n",
    "        label_vals.append(i+ \": \"+str(round(float(temp))))\n",
    "    elif i in df['output'].values:\n",
    "        temp = df[df['output']==i]['weight'].sum()\n",
    "        label_vals.append(i+ \": \"+str(round(float(temp))))"
   ]
  },
  {
   "cell_type": "code",
   "execution_count": null,
   "id": "6c54274f",
   "metadata": {
    "scrolled": false
   },
   "outputs": [
    {
     "data": {
      "application/vnd.plotly.v1+json": {
       "config": {
        "plotlyServerURL": "https://plot.ly"
       },
       "data": [
        {
         "arrangement": "perpendicular",
         "link": {
          "source": [
           0,
           2,
           2,
           3,
           4,
           1,
           1,
           1,
           1,
           1,
           8,
           17,
           17,
           17,
           17,
           17,
           11,
           12,
           27,
           13,
           31,
           20,
           35,
           37,
           39,
           14,
           43
          ],
          "target": [
           1,
           3,
           4,
           1,
           8,
           10,
           11,
           12,
           13,
           14,
           16,
           18,
           18,
           20,
           21,
           22,
           17,
           26,
           1,
           8,
           1,
           8,
           17,
           1,
           1,
           8,
           1
          ],
          "value": [
           0,
           0,
           1,
           0,
           1,
           567,
           255,
           114,
           519,
           59,
           1362,
           82,
           82,
           6,
           119,
           108,
           198,
           114,
           366,
           1297,
           5,
           5,
           76,
           426,
           55,
           59,
           663
          ]
         },
         "node": {
          "color": [
           "#808080",
           "#483d8b",
           "#006400",
           "#3cb371",
           "#008080",
           "#3cb371",
           "#483d8b",
           "#008080",
           "#000080",
           "#483d8b",
           "#7e7a36",
           "#b03060",
           "#d2b48c",
           "#00ced1",
           "#7b68ee",
           "#000080",
           "#4682b4",
           "#808000",
           "#8b008b",
           "#8b008b",
           "#a020f0",
           "#adff2f",
           "#b0c4de",
           "#b03060",
           "#808000",
           "#d2b48c",
           "#cd853f",
           "#ff4500",
           "#483d8b",
           "#00ced1",
           "#000080",
           "#ff8c00",
           "#483d8b",
           "#a020f0",
           "#000080",
           "#dc143c",
           "#808000",
           "#d6f0ef",
           "#483d8b",
           "#98fb98",
           "#483d8b",
           "#7b68ee",
           "#000080",
           "#ee82ee",
           "#483d8b"
          ],
          "label": [
           "Anaerobic digestion: 0",
           "Electricity: 1514",
           "Biomass: 1",
           "Biomass boiler to electricity: 0",
           "Biomass boiler to heat: 1",
           "Biomass boiler to electricity: 0",
           "Electricity: 1514",
           "Biomass boiler to heat: 1",
           "Heat: 1362",
           "Electricity: 1514",
           "Electricity demand: 567",
           "Electrolyser: 198",
           "EV chargers: 114",
           "Heat pump: 1297",
           "Resistance heating: 59",
           "Heat: 1362",
           "Heat demand: 1362",
           "Hydrogen: 315",
           "Industrial hydrogen demand: 82",
           "Industrial hydrogen demand: 82",
           "Hydrogen boiler to heat: 5",
           "Hydrogen export: 119",
           "Hydrogen refueller to transport: 108",
           "Electrolyser: 198",
           "Hydrogen: 315",
           "EV chargers: 114",
           "Electricity transport: 114",
           "Ground PV: 366",
           "Electricity: 1514",
           "Heat pump: 1297",
           "Heat: 1362",
           "Hydroelectricity: 5",
           "Electricity: 1514",
           "Hydrogen boiler to heat: 5",
           "Heat: 1362",
           "Hydrogen import: 76",
           "Hydrogen: 315",
           "National grid import: 426",
           "Electricity: 1514",
           "Onshore wind: 55",
           "Electricity: 1514",
           "Resistance heating: 59",
           "Heat: 1362",
           "Rooftop PV: 663",
           "Electricity: 1514"
          ],
          "line": {
           "color": "black",
           "width": 0.5
          },
          "pad": 30,
          "thickness": 15
         },
         "type": "sankey"
        }
       ],
       "layout": {
        "font": {
         "size": 25
        },
        "height": 1150,
        "margin": {
         "b": 20,
         "l": 10,
         "r": 150,
         "t": 150
        },
        "template": {
         "data": {
          "bar": [
           {
            "error_x": {
             "color": "#2a3f5f"
            },
            "error_y": {
             "color": "#2a3f5f"
            },
            "marker": {
             "line": {
              "color": "#E5ECF6",
              "width": 0.5
             },
             "pattern": {
              "fillmode": "overlay",
              "size": 10,
              "solidity": 0.2
             }
            },
            "type": "bar"
           }
          ],
          "barpolar": [
           {
            "marker": {
             "line": {
              "color": "#E5ECF6",
              "width": 0.5
             },
             "pattern": {
              "fillmode": "overlay",
              "size": 10,
              "solidity": 0.2
             }
            },
            "type": "barpolar"
           }
          ],
          "carpet": [
           {
            "aaxis": {
             "endlinecolor": "#2a3f5f",
             "gridcolor": "white",
             "linecolor": "white",
             "minorgridcolor": "white",
             "startlinecolor": "#2a3f5f"
            },
            "baxis": {
             "endlinecolor": "#2a3f5f",
             "gridcolor": "white",
             "linecolor": "white",
             "minorgridcolor": "white",
             "startlinecolor": "#2a3f5f"
            },
            "type": "carpet"
           }
          ],
          "choropleth": [
           {
            "colorbar": {
             "outlinewidth": 0,
             "ticks": ""
            },
            "type": "choropleth"
           }
          ],
          "contour": [
           {
            "colorbar": {
             "outlinewidth": 0,
             "ticks": ""
            },
            "colorscale": [
             [
              0,
              "#0d0887"
             ],
             [
              0.1111111111111111,
              "#46039f"
             ],
             [
              0.2222222222222222,
              "#7201a8"
             ],
             [
              0.3333333333333333,
              "#9c179e"
             ],
             [
              0.4444444444444444,
              "#bd3786"
             ],
             [
              0.5555555555555556,
              "#d8576b"
             ],
             [
              0.6666666666666666,
              "#ed7953"
             ],
             [
              0.7777777777777778,
              "#fb9f3a"
             ],
             [
              0.8888888888888888,
              "#fdca26"
             ],
             [
              1,
              "#f0f921"
             ]
            ],
            "type": "contour"
           }
          ],
          "contourcarpet": [
           {
            "colorbar": {
             "outlinewidth": 0,
             "ticks": ""
            },
            "type": "contourcarpet"
           }
          ],
          "heatmap": [
           {
            "colorbar": {
             "outlinewidth": 0,
             "ticks": ""
            },
            "colorscale": [
             [
              0,
              "#0d0887"
             ],
             [
              0.1111111111111111,
              "#46039f"
             ],
             [
              0.2222222222222222,
              "#7201a8"
             ],
             [
              0.3333333333333333,
              "#9c179e"
             ],
             [
              0.4444444444444444,
              "#bd3786"
             ],
             [
              0.5555555555555556,
              "#d8576b"
             ],
             [
              0.6666666666666666,
              "#ed7953"
             ],
             [
              0.7777777777777778,
              "#fb9f3a"
             ],
             [
              0.8888888888888888,
              "#fdca26"
             ],
             [
              1,
              "#f0f921"
             ]
            ],
            "type": "heatmap"
           }
          ],
          "heatmapgl": [
           {
            "colorbar": {
             "outlinewidth": 0,
             "ticks": ""
            },
            "colorscale": [
             [
              0,
              "#0d0887"
             ],
             [
              0.1111111111111111,
              "#46039f"
             ],
             [
              0.2222222222222222,
              "#7201a8"
             ],
             [
              0.3333333333333333,
              "#9c179e"
             ],
             [
              0.4444444444444444,
              "#bd3786"
             ],
             [
              0.5555555555555556,
              "#d8576b"
             ],
             [
              0.6666666666666666,
              "#ed7953"
             ],
             [
              0.7777777777777778,
              "#fb9f3a"
             ],
             [
              0.8888888888888888,
              "#fdca26"
             ],
             [
              1,
              "#f0f921"
             ]
            ],
            "type": "heatmapgl"
           }
          ],
          "histogram": [
           {
            "marker": {
             "pattern": {
              "fillmode": "overlay",
              "size": 10,
              "solidity": 0.2
             }
            },
            "type": "histogram"
           }
          ],
          "histogram2d": [
           {
            "colorbar": {
             "outlinewidth": 0,
             "ticks": ""
            },
            "colorscale": [
             [
              0,
              "#0d0887"
             ],
             [
              0.1111111111111111,
              "#46039f"
             ],
             [
              0.2222222222222222,
              "#7201a8"
             ],
             [
              0.3333333333333333,
              "#9c179e"
             ],
             [
              0.4444444444444444,
              "#bd3786"
             ],
             [
              0.5555555555555556,
              "#d8576b"
             ],
             [
              0.6666666666666666,
              "#ed7953"
             ],
             [
              0.7777777777777778,
              "#fb9f3a"
             ],
             [
              0.8888888888888888,
              "#fdca26"
             ],
             [
              1,
              "#f0f921"
             ]
            ],
            "type": "histogram2d"
           }
          ],
          "histogram2dcontour": [
           {
            "colorbar": {
             "outlinewidth": 0,
             "ticks": ""
            },
            "colorscale": [
             [
              0,
              "#0d0887"
             ],
             [
              0.1111111111111111,
              "#46039f"
             ],
             [
              0.2222222222222222,
              "#7201a8"
             ],
             [
              0.3333333333333333,
              "#9c179e"
             ],
             [
              0.4444444444444444,
              "#bd3786"
             ],
             [
              0.5555555555555556,
              "#d8576b"
             ],
             [
              0.6666666666666666,
              "#ed7953"
             ],
             [
              0.7777777777777778,
              "#fb9f3a"
             ],
             [
              0.8888888888888888,
              "#fdca26"
             ],
             [
              1,
              "#f0f921"
             ]
            ],
            "type": "histogram2dcontour"
           }
          ],
          "mesh3d": [
           {
            "colorbar": {
             "outlinewidth": 0,
             "ticks": ""
            },
            "type": "mesh3d"
           }
          ],
          "parcoords": [
           {
            "line": {
             "colorbar": {
              "outlinewidth": 0,
              "ticks": ""
             }
            },
            "type": "parcoords"
           }
          ],
          "pie": [
           {
            "automargin": true,
            "type": "pie"
           }
          ],
          "scatter": [
           {
            "marker": {
             "colorbar": {
              "outlinewidth": 0,
              "ticks": ""
             }
            },
            "type": "scatter"
           }
          ],
          "scatter3d": [
           {
            "line": {
             "colorbar": {
              "outlinewidth": 0,
              "ticks": ""
             }
            },
            "marker": {
             "colorbar": {
              "outlinewidth": 0,
              "ticks": ""
             }
            },
            "type": "scatter3d"
           }
          ],
          "scattercarpet": [
           {
            "marker": {
             "colorbar": {
              "outlinewidth": 0,
              "ticks": ""
             }
            },
            "type": "scattercarpet"
           }
          ],
          "scattergeo": [
           {
            "marker": {
             "colorbar": {
              "outlinewidth": 0,
              "ticks": ""
             }
            },
            "type": "scattergeo"
           }
          ],
          "scattergl": [
           {
            "marker": {
             "colorbar": {
              "outlinewidth": 0,
              "ticks": ""
             }
            },
            "type": "scattergl"
           }
          ],
          "scattermapbox": [
           {
            "marker": {
             "colorbar": {
              "outlinewidth": 0,
              "ticks": ""
             }
            },
            "type": "scattermapbox"
           }
          ],
          "scatterpolar": [
           {
            "marker": {
             "colorbar": {
              "outlinewidth": 0,
              "ticks": ""
             }
            },
            "type": "scatterpolar"
           }
          ],
          "scatterpolargl": [
           {
            "marker": {
             "colorbar": {
              "outlinewidth": 0,
              "ticks": ""
             }
            },
            "type": "scatterpolargl"
           }
          ],
          "scatterternary": [
           {
            "marker": {
             "colorbar": {
              "outlinewidth": 0,
              "ticks": ""
             }
            },
            "type": "scatterternary"
           }
          ],
          "surface": [
           {
            "colorbar": {
             "outlinewidth": 0,
             "ticks": ""
            },
            "colorscale": [
             [
              0,
              "#0d0887"
             ],
             [
              0.1111111111111111,
              "#46039f"
             ],
             [
              0.2222222222222222,
              "#7201a8"
             ],
             [
              0.3333333333333333,
              "#9c179e"
             ],
             [
              0.4444444444444444,
              "#bd3786"
             ],
             [
              0.5555555555555556,
              "#d8576b"
             ],
             [
              0.6666666666666666,
              "#ed7953"
             ],
             [
              0.7777777777777778,
              "#fb9f3a"
             ],
             [
              0.8888888888888888,
              "#fdca26"
             ],
             [
              1,
              "#f0f921"
             ]
            ],
            "type": "surface"
           }
          ],
          "table": [
           {
            "cells": {
             "fill": {
              "color": "#EBF0F8"
             },
             "line": {
              "color": "white"
             }
            },
            "header": {
             "fill": {
              "color": "#C8D4E3"
             },
             "line": {
              "color": "white"
             }
            },
            "type": "table"
           }
          ]
         },
         "layout": {
          "annotationdefaults": {
           "arrowcolor": "#2a3f5f",
           "arrowhead": 0,
           "arrowwidth": 1
          },
          "autotypenumbers": "strict",
          "coloraxis": {
           "colorbar": {
            "outlinewidth": 0,
            "ticks": ""
           }
          },
          "colorscale": {
           "diverging": [
            [
             0,
             "#8e0152"
            ],
            [
             0.1,
             "#c51b7d"
            ],
            [
             0.2,
             "#de77ae"
            ],
            [
             0.3,
             "#f1b6da"
            ],
            [
             0.4,
             "#fde0ef"
            ],
            [
             0.5,
             "#f7f7f7"
            ],
            [
             0.6,
             "#e6f5d0"
            ],
            [
             0.7,
             "#b8e186"
            ],
            [
             0.8,
             "#7fbc41"
            ],
            [
             0.9,
             "#4d9221"
            ],
            [
             1,
             "#276419"
            ]
           ],
           "sequential": [
            [
             0,
             "#0d0887"
            ],
            [
             0.1111111111111111,
             "#46039f"
            ],
            [
             0.2222222222222222,
             "#7201a8"
            ],
            [
             0.3333333333333333,
             "#9c179e"
            ],
            [
             0.4444444444444444,
             "#bd3786"
            ],
            [
             0.5555555555555556,
             "#d8576b"
            ],
            [
             0.6666666666666666,
             "#ed7953"
            ],
            [
             0.7777777777777778,
             "#fb9f3a"
            ],
            [
             0.8888888888888888,
             "#fdca26"
            ],
            [
             1,
             "#f0f921"
            ]
           ],
           "sequentialminus": [
            [
             0,
             "#0d0887"
            ],
            [
             0.1111111111111111,
             "#46039f"
            ],
            [
             0.2222222222222222,
             "#7201a8"
            ],
            [
             0.3333333333333333,
             "#9c179e"
            ],
            [
             0.4444444444444444,
             "#bd3786"
            ],
            [
             0.5555555555555556,
             "#d8576b"
            ],
            [
             0.6666666666666666,
             "#ed7953"
            ],
            [
             0.7777777777777778,
             "#fb9f3a"
            ],
            [
             0.8888888888888888,
             "#fdca26"
            ],
            [
             1,
             "#f0f921"
            ]
           ]
          },
          "colorway": [
           "#636efa",
           "#EF553B",
           "#00cc96",
           "#ab63fa",
           "#FFA15A",
           "#19d3f3",
           "#FF6692",
           "#B6E880",
           "#FF97FF",
           "#FECB52"
          ],
          "font": {
           "color": "#2a3f5f"
          },
          "geo": {
           "bgcolor": "white",
           "lakecolor": "white",
           "landcolor": "#E5ECF6",
           "showlakes": true,
           "showland": true,
           "subunitcolor": "white"
          },
          "hoverlabel": {
           "align": "left"
          },
          "hovermode": "closest",
          "mapbox": {
           "style": "light"
          },
          "paper_bgcolor": "white",
          "plot_bgcolor": "#E5ECF6",
          "polar": {
           "angularaxis": {
            "gridcolor": "white",
            "linecolor": "white",
            "ticks": ""
           },
           "bgcolor": "#E5ECF6",
           "radialaxis": {
            "gridcolor": "white",
            "linecolor": "white",
            "ticks": ""
           }
          },
          "scene": {
           "xaxis": {
            "backgroundcolor": "#E5ECF6",
            "gridcolor": "white",
            "gridwidth": 2,
            "linecolor": "white",
            "showbackground": true,
            "ticks": "",
            "zerolinecolor": "white"
           },
           "yaxis": {
            "backgroundcolor": "#E5ECF6",
            "gridcolor": "white",
            "gridwidth": 2,
            "linecolor": "white",
            "showbackground": true,
            "ticks": "",
            "zerolinecolor": "white"
           },
           "zaxis": {
            "backgroundcolor": "#E5ECF6",
            "gridcolor": "white",
            "gridwidth": 2,
            "linecolor": "white",
            "showbackground": true,
            "ticks": "",
            "zerolinecolor": "white"
           }
          },
          "shapedefaults": {
           "line": {
            "color": "#2a3f5f"
           }
          },
          "ternary": {
           "aaxis": {
            "gridcolor": "white",
            "linecolor": "white",
            "ticks": ""
           },
           "baxis": {
            "gridcolor": "white",
            "linecolor": "white",
            "ticks": ""
           },
           "bgcolor": "#E5ECF6",
           "caxis": {
            "gridcolor": "white",
            "linecolor": "white",
            "ticks": ""
           }
          },
          "title": {
           "x": 0.05
          },
          "xaxis": {
           "automargin": true,
           "gridcolor": "white",
           "linecolor": "white",
           "ticks": "",
           "title": {
            "standoff": 15
           },
           "zerolinecolor": "white",
           "zerolinewidth": 2
          },
          "yaxis": {
           "automargin": true,
           "gridcolor": "white",
           "linecolor": "white",
           "ticks": "",
           "title": {
            "standoff": 15
           },
           "zerolinecolor": "white",
           "zerolinewidth": 2
          }
         }
        },
        "width": 1500
       }
      },
      "text/html": [
       "<div>                            <div id=\"88f7eb98-9bad-4314-a05a-7ba6f334423f\" class=\"plotly-graph-div\" style=\"height:1150px; width:1500px;\"></div>            <script type=\"text/javascript\">                require([\"plotly\"], function(Plotly) {                    window.PLOTLYENV=window.PLOTLYENV || {};                                    if (document.getElementById(\"88f7eb98-9bad-4314-a05a-7ba6f334423f\")) {                    Plotly.newPlot(                        \"88f7eb98-9bad-4314-a05a-7ba6f334423f\",                        [{\"arrangement\":\"perpendicular\",\"link\":{\"source\":[0,2,2,3,4,1,1,1,1,1,8,17,17,17,17,17,11,12,27,13,31,20,35,37,39,14,43],\"target\":[1,3,4,1,8,10,11,12,13,14,16,18,18,20,21,22,17,26,1,8,1,8,17,1,1,8,1],\"value\":[0,0,1,0,1,567,255,114,519,59,1362,82,82,6,119,108,198,114,366,1297,5,5,76,426,55,59,663]},\"node\":{\"color\":[\"#808080\",\"#483d8b\",\"#006400\",\"#3cb371\",\"#008080\",\"#3cb371\",\"#483d8b\",\"#008080\",\"#000080\",\"#483d8b\",\"#7e7a36\",\"#b03060\",\"#d2b48c\",\"#00ced1\",\"#7b68ee\",\"#000080\",\"#4682b4\",\"#808000\",\"#8b008b\",\"#8b008b\",\"#a020f0\",\"#adff2f\",\"#b0c4de\",\"#b03060\",\"#808000\",\"#d2b48c\",\"#cd853f\",\"#ff4500\",\"#483d8b\",\"#00ced1\",\"#000080\",\"#ff8c00\",\"#483d8b\",\"#a020f0\",\"#000080\",\"#dc143c\",\"#808000\",\"#d6f0ef\",\"#483d8b\",\"#98fb98\",\"#483d8b\",\"#7b68ee\",\"#000080\",\"#ee82ee\",\"#483d8b\"],\"label\":[\"Anaerobic digestion: 0\",\"Electricity: 1514\",\"Biomass: 1\",\"Biomass boiler to electricity: 0\",\"Biomass boiler to heat: 1\",\"Biomass boiler to electricity: 0\",\"Electricity: 1514\",\"Biomass boiler to heat: 1\",\"Heat: 1362\",\"Electricity: 1514\",\"Electricity demand: 567\",\"Electrolyser: 198\",\"EV chargers: 114\",\"Heat pump: 1297\",\"Resistance heating: 59\",\"Heat: 1362\",\"Heat demand: 1362\",\"Hydrogen: 315\",\"Industrial hydrogen demand: 82\",\"Industrial hydrogen demand: 82\",\"Hydrogen boiler to heat: 5\",\"Hydrogen export: 119\",\"Hydrogen refueller to transport: 108\",\"Electrolyser: 198\",\"Hydrogen: 315\",\"EV chargers: 114\",\"Electricity transport: 114\",\"Ground PV: 366\",\"Electricity: 1514\",\"Heat pump: 1297\",\"Heat: 1362\",\"Hydroelectricity: 5\",\"Electricity: 1514\",\"Hydrogen boiler to heat: 5\",\"Heat: 1362\",\"Hydrogen import: 76\",\"Hydrogen: 315\",\"National grid import: 426\",\"Electricity: 1514\",\"Onshore wind: 55\",\"Electricity: 1514\",\"Resistance heating: 59\",\"Heat: 1362\",\"Rooftop PV: 663\",\"Electricity: 1514\"],\"line\":{\"color\":\"black\",\"width\":0.5},\"pad\":30,\"thickness\":15},\"type\":\"sankey\"}],                        {\"font\":{\"size\":25},\"height\":1150,\"margin\":{\"b\":20,\"l\":10,\"r\":150,\"t\":150},\"template\":{\"data\":{\"bar\":[{\"error_x\":{\"color\":\"#2a3f5f\"},\"error_y\":{\"color\":\"#2a3f5f\"},\"marker\":{\"line\":{\"color\":\"#E5ECF6\",\"width\":0.5},\"pattern\":{\"fillmode\":\"overlay\",\"size\":10,\"solidity\":0.2}},\"type\":\"bar\"}],\"barpolar\":[{\"marker\":{\"line\":{\"color\":\"#E5ECF6\",\"width\":0.5},\"pattern\":{\"fillmode\":\"overlay\",\"size\":10,\"solidity\":0.2}},\"type\":\"barpolar\"}],\"carpet\":[{\"aaxis\":{\"endlinecolor\":\"#2a3f5f\",\"gridcolor\":\"white\",\"linecolor\":\"white\",\"minorgridcolor\":\"white\",\"startlinecolor\":\"#2a3f5f\"},\"baxis\":{\"endlinecolor\":\"#2a3f5f\",\"gridcolor\":\"white\",\"linecolor\":\"white\",\"minorgridcolor\":\"white\",\"startlinecolor\":\"#2a3f5f\"},\"type\":\"carpet\"}],\"choropleth\":[{\"colorbar\":{\"outlinewidth\":0,\"ticks\":\"\"},\"type\":\"choropleth\"}],\"contour\":[{\"colorbar\":{\"outlinewidth\":0,\"ticks\":\"\"},\"colorscale\":[[0.0,\"#0d0887\"],[0.1111111111111111,\"#46039f\"],[0.2222222222222222,\"#7201a8\"],[0.3333333333333333,\"#9c179e\"],[0.4444444444444444,\"#bd3786\"],[0.5555555555555556,\"#d8576b\"],[0.6666666666666666,\"#ed7953\"],[0.7777777777777778,\"#fb9f3a\"],[0.8888888888888888,\"#fdca26\"],[1.0,\"#f0f921\"]],\"type\":\"contour\"}],\"contourcarpet\":[{\"colorbar\":{\"outlinewidth\":0,\"ticks\":\"\"},\"type\":\"contourcarpet\"}],\"heatmap\":[{\"colorbar\":{\"outlinewidth\":0,\"ticks\":\"\"},\"colorscale\":[[0.0,\"#0d0887\"],[0.1111111111111111,\"#46039f\"],[0.2222222222222222,\"#7201a8\"],[0.3333333333333333,\"#9c179e\"],[0.4444444444444444,\"#bd3786\"],[0.5555555555555556,\"#d8576b\"],[0.6666666666666666,\"#ed7953\"],[0.7777777777777778,\"#fb9f3a\"],[0.8888888888888888,\"#fdca26\"],[1.0,\"#f0f921\"]],\"type\":\"heatmap\"}],\"heatmapgl\":[{\"colorbar\":{\"outlinewidth\":0,\"ticks\":\"\"},\"colorscale\":[[0.0,\"#0d0887\"],[0.1111111111111111,\"#46039f\"],[0.2222222222222222,\"#7201a8\"],[0.3333333333333333,\"#9c179e\"],[0.4444444444444444,\"#bd3786\"],[0.5555555555555556,\"#d8576b\"],[0.6666666666666666,\"#ed7953\"],[0.7777777777777778,\"#fb9f3a\"],[0.8888888888888888,\"#fdca26\"],[1.0,\"#f0f921\"]],\"type\":\"heatmapgl\"}],\"histogram\":[{\"marker\":{\"pattern\":{\"fillmode\":\"overlay\",\"size\":10,\"solidity\":0.2}},\"type\":\"histogram\"}],\"histogram2d\":[{\"colorbar\":{\"outlinewidth\":0,\"ticks\":\"\"},\"colorscale\":[[0.0,\"#0d0887\"],[0.1111111111111111,\"#46039f\"],[0.2222222222222222,\"#7201a8\"],[0.3333333333333333,\"#9c179e\"],[0.4444444444444444,\"#bd3786\"],[0.5555555555555556,\"#d8576b\"],[0.6666666666666666,\"#ed7953\"],[0.7777777777777778,\"#fb9f3a\"],[0.8888888888888888,\"#fdca26\"],[1.0,\"#f0f921\"]],\"type\":\"histogram2d\"}],\"histogram2dcontour\":[{\"colorbar\":{\"outlinewidth\":0,\"ticks\":\"\"},\"colorscale\":[[0.0,\"#0d0887\"],[0.1111111111111111,\"#46039f\"],[0.2222222222222222,\"#7201a8\"],[0.3333333333333333,\"#9c179e\"],[0.4444444444444444,\"#bd3786\"],[0.5555555555555556,\"#d8576b\"],[0.6666666666666666,\"#ed7953\"],[0.7777777777777778,\"#fb9f3a\"],[0.8888888888888888,\"#fdca26\"],[1.0,\"#f0f921\"]],\"type\":\"histogram2dcontour\"}],\"mesh3d\":[{\"colorbar\":{\"outlinewidth\":0,\"ticks\":\"\"},\"type\":\"mesh3d\"}],\"parcoords\":[{\"line\":{\"colorbar\":{\"outlinewidth\":0,\"ticks\":\"\"}},\"type\":\"parcoords\"}],\"pie\":[{\"automargin\":true,\"type\":\"pie\"}],\"scatter\":[{\"marker\":{\"colorbar\":{\"outlinewidth\":0,\"ticks\":\"\"}},\"type\":\"scatter\"}],\"scatter3d\":[{\"line\":{\"colorbar\":{\"outlinewidth\":0,\"ticks\":\"\"}},\"marker\":{\"colorbar\":{\"outlinewidth\":0,\"ticks\":\"\"}},\"type\":\"scatter3d\"}],\"scattercarpet\":[{\"marker\":{\"colorbar\":{\"outlinewidth\":0,\"ticks\":\"\"}},\"type\":\"scattercarpet\"}],\"scattergeo\":[{\"marker\":{\"colorbar\":{\"outlinewidth\":0,\"ticks\":\"\"}},\"type\":\"scattergeo\"}],\"scattergl\":[{\"marker\":{\"colorbar\":{\"outlinewidth\":0,\"ticks\":\"\"}},\"type\":\"scattergl\"}],\"scattermapbox\":[{\"marker\":{\"colorbar\":{\"outlinewidth\":0,\"ticks\":\"\"}},\"type\":\"scattermapbox\"}],\"scatterpolar\":[{\"marker\":{\"colorbar\":{\"outlinewidth\":0,\"ticks\":\"\"}},\"type\":\"scatterpolar\"}],\"scatterpolargl\":[{\"marker\":{\"colorbar\":{\"outlinewidth\":0,\"ticks\":\"\"}},\"type\":\"scatterpolargl\"}],\"scatterternary\":[{\"marker\":{\"colorbar\":{\"outlinewidth\":0,\"ticks\":\"\"}},\"type\":\"scatterternary\"}],\"surface\":[{\"colorbar\":{\"outlinewidth\":0,\"ticks\":\"\"},\"colorscale\":[[0.0,\"#0d0887\"],[0.1111111111111111,\"#46039f\"],[0.2222222222222222,\"#7201a8\"],[0.3333333333333333,\"#9c179e\"],[0.4444444444444444,\"#bd3786\"],[0.5555555555555556,\"#d8576b\"],[0.6666666666666666,\"#ed7953\"],[0.7777777777777778,\"#fb9f3a\"],[0.8888888888888888,\"#fdca26\"],[1.0,\"#f0f921\"]],\"type\":\"surface\"}],\"table\":[{\"cells\":{\"fill\":{\"color\":\"#EBF0F8\"},\"line\":{\"color\":\"white\"}},\"header\":{\"fill\":{\"color\":\"#C8D4E3\"},\"line\":{\"color\":\"white\"}},\"type\":\"table\"}]},\"layout\":{\"annotationdefaults\":{\"arrowcolor\":\"#2a3f5f\",\"arrowhead\":0,\"arrowwidth\":1},\"autotypenumbers\":\"strict\",\"coloraxis\":{\"colorbar\":{\"outlinewidth\":0,\"ticks\":\"\"}},\"colorscale\":{\"diverging\":[[0,\"#8e0152\"],[0.1,\"#c51b7d\"],[0.2,\"#de77ae\"],[0.3,\"#f1b6da\"],[0.4,\"#fde0ef\"],[0.5,\"#f7f7f7\"],[0.6,\"#e6f5d0\"],[0.7,\"#b8e186\"],[0.8,\"#7fbc41\"],[0.9,\"#4d9221\"],[1,\"#276419\"]],\"sequential\":[[0.0,\"#0d0887\"],[0.1111111111111111,\"#46039f\"],[0.2222222222222222,\"#7201a8\"],[0.3333333333333333,\"#9c179e\"],[0.4444444444444444,\"#bd3786\"],[0.5555555555555556,\"#d8576b\"],[0.6666666666666666,\"#ed7953\"],[0.7777777777777778,\"#fb9f3a\"],[0.8888888888888888,\"#fdca26\"],[1.0,\"#f0f921\"]],\"sequentialminus\":[[0.0,\"#0d0887\"],[0.1111111111111111,\"#46039f\"],[0.2222222222222222,\"#7201a8\"],[0.3333333333333333,\"#9c179e\"],[0.4444444444444444,\"#bd3786\"],[0.5555555555555556,\"#d8576b\"],[0.6666666666666666,\"#ed7953\"],[0.7777777777777778,\"#fb9f3a\"],[0.8888888888888888,\"#fdca26\"],[1.0,\"#f0f921\"]]},\"colorway\":[\"#636efa\",\"#EF553B\",\"#00cc96\",\"#ab63fa\",\"#FFA15A\",\"#19d3f3\",\"#FF6692\",\"#B6E880\",\"#FF97FF\",\"#FECB52\"],\"font\":{\"color\":\"#2a3f5f\"},\"geo\":{\"bgcolor\":\"white\",\"lakecolor\":\"white\",\"landcolor\":\"#E5ECF6\",\"showlakes\":true,\"showland\":true,\"subunitcolor\":\"white\"},\"hoverlabel\":{\"align\":\"left\"},\"hovermode\":\"closest\",\"mapbox\":{\"style\":\"light\"},\"paper_bgcolor\":\"white\",\"plot_bgcolor\":\"#E5ECF6\",\"polar\":{\"angularaxis\":{\"gridcolor\":\"white\",\"linecolor\":\"white\",\"ticks\":\"\"},\"bgcolor\":\"#E5ECF6\",\"radialaxis\":{\"gridcolor\":\"white\",\"linecolor\":\"white\",\"ticks\":\"\"}},\"scene\":{\"xaxis\":{\"backgroundcolor\":\"#E5ECF6\",\"gridcolor\":\"white\",\"gridwidth\":2,\"linecolor\":\"white\",\"showbackground\":true,\"ticks\":\"\",\"zerolinecolor\":\"white\"},\"yaxis\":{\"backgroundcolor\":\"#E5ECF6\",\"gridcolor\":\"white\",\"gridwidth\":2,\"linecolor\":\"white\",\"showbackground\":true,\"ticks\":\"\",\"zerolinecolor\":\"white\"},\"zaxis\":{\"backgroundcolor\":\"#E5ECF6\",\"gridcolor\":\"white\",\"gridwidth\":2,\"linecolor\":\"white\",\"showbackground\":true,\"ticks\":\"\",\"zerolinecolor\":\"white\"}},\"shapedefaults\":{\"line\":{\"color\":\"#2a3f5f\"}},\"ternary\":{\"aaxis\":{\"gridcolor\":\"white\",\"linecolor\":\"white\",\"ticks\":\"\"},\"baxis\":{\"gridcolor\":\"white\",\"linecolor\":\"white\",\"ticks\":\"\"},\"bgcolor\":\"#E5ECF6\",\"caxis\":{\"gridcolor\":\"white\",\"linecolor\":\"white\",\"ticks\":\"\"}},\"title\":{\"x\":0.05},\"xaxis\":{\"automargin\":true,\"gridcolor\":\"white\",\"linecolor\":\"white\",\"ticks\":\"\",\"title\":{\"standoff\":15},\"zerolinecolor\":\"white\",\"zerolinewidth\":2},\"yaxis\":{\"automargin\":true,\"gridcolor\":\"white\",\"linecolor\":\"white\",\"ticks\":\"\",\"title\":{\"standoff\":15},\"zerolinecolor\":\"white\",\"zerolinewidth\":2}}},\"width\":1500},                        {\"responsive\": true}                    ).then(function(){\n",
       "                            \n",
       "var gd = document.getElementById('88f7eb98-9bad-4314-a05a-7ba6f334423f');\n",
       "var x = new MutationObserver(function (mutations, observer) {{\n",
       "        var display = window.getComputedStyle(gd).display;\n",
       "        if (!display || display === 'none') {{\n",
       "            console.log([gd, 'removed!']);\n",
       "            Plotly.purge(gd);\n",
       "            observer.disconnect();\n",
       "        }}\n",
       "}});\n",
       "\n",
       "// Listen for the removal of the full notebook cells\n",
       "var notebookContainer = gd.closest('#notebook-container');\n",
       "if (notebookContainer) {{\n",
       "    x.observe(notebookContainer, {childList: true});\n",
       "}}\n",
       "\n",
       "// Listen for the clearing of the current output cell\n",
       "var outputEl = gd.closest('.output');\n",
       "if (outputEl) {{\n",
       "    x.observe(outputEl, {childList: true});\n",
       "}}\n",
       "\n",
       "                        })                };                });            </script>        </div>"
      ]
     },
     "metadata": {},
     "output_type": "display_data"
    }
   ],
   "source": [
    "#build sankey\n",
    "#source of original code (edited here): https://medium.com/codex/how-to-automatically-generate-data-structure-for-sankey-diagrams-6082e332139f\n",
    "fig = go.Figure(data=[go.Sankey(\n",
    "    arrangement=\"perpendicular\", #other layout options available\n",
    "    node = dict(\n",
    "      pad = 30, #spacing between nodes\n",
    "      thickness = 15,#thickness of nodes\n",
    "      line = dict(color = \"black\", width = 0.5), #node outline\n",
    "      label = label_vals,\n",
    "      color = colours_list #change this to a given colour for them to be monochromatic or to label_colours for random colours\n",
    "    ),\n",
    "    link = dict(\n",
    "      source = my_sankey['source'],\n",
    "      target = my_sankey['target'],\n",
    "      value = my_sankey['value']\n",
    "  ))])\n",
    "fig.update_layout(height=1150, width=1500, margin={'t':150,'b':20,'l':10,'r':150}, font= dict(size=25))"
   ]
  },
  {
   "cell_type": "code",
   "execution_count": null,
   "id": "dd9bb627",
   "metadata": {},
   "outputs": [],
   "source": []
  }
 ],
 "metadata": {
  "kernelspec": {
   "display_name": "Python 3",
   "language": "python",
   "name": "python3"
  },
  "language_info": {
   "codemirror_mode": {
    "name": "ipython",
    "version": 3
   },
   "file_extension": ".py",
   "mimetype": "text/x-python",
   "name": "python",
   "nbconvert_exporter": "python",
   "pygments_lexer": "ipython3",
   "version": "3.7.11"
  }
 },
 "nbformat": 4,
 "nbformat_minor": 5
}
